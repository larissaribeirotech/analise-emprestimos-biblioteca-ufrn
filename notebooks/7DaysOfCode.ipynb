{
  "nbformat": 4,
  "nbformat_minor": 0,
  "metadata": {
    "colab": {
      "provenance": []
    },
    "kernelspec": {
      "name": "python3",
      "display_name": "Python 3"
    },
    "language_info": {
      "name": "python"
    }
  },
  "cells": [
    {
      "cell_type": "code",
      "source": [
        "import pandas as pd"
      ],
      "metadata": {
        "id": "3CzO3cY0WZLO"
      },
      "execution_count": null,
      "outputs": []
    },
    {
      "cell_type": "code",
      "source": [
        "url_base_emprestimos = 'https://raw.githubusercontent.com/FranciscoFoz/7_Days_of_Code_Alura-Python-Pandas/main/Dia_1-Importando_dados/Datasets/dados_emprestimos/emprestimos-'"
      ],
      "metadata": {
        "id": "F8stJQ-lkV4J"
      },
      "execution_count": null,
      "outputs": []
    },
    {
      "cell_type": "code",
      "source": [
        "dfs_emprestimos = []"
      ],
      "metadata": {
        "id": "12uO_pqskcf4"
      },
      "execution_count": null,
      "outputs": []
    },
    {
      "cell_type": "code",
      "source": [
        "for ano in range(2010, 2021):\n",
        "    for semestre in [1, 2]:\n",
        "        try:\n",
        "            url_completa = f'{url_base_emprestimos}{ano}{semestre}.csv'\n",
        "            df_temp = pd.read_csv(url_completa)\n",
        "            dfs_emprestimos.append(df_temp)\n",
        "        except Exception:\n",
        "          continue"
      ],
      "metadata": {
        "id": "9i3NF8okkjf7"
      },
      "execution_count": null,
      "outputs": []
    },
    {
      "cell_type": "code",
      "source": [
        "df_emprestimos_completo = pd.concat(dfs_emprestimos, ignore_index=True)"
      ],
      "metadata": {
        "id": "YM-4xc8ekyZW"
      },
      "execution_count": null,
      "outputs": []
    },
    {
      "cell_type": "code",
      "source": [
        "df_emprestimos_completo.head(250)"
      ],
      "metadata": {
        "id": "kTEu_A2ZkzzN"
      },
      "execution_count": null,
      "outputs": []
    },
    {
      "cell_type": "code",
      "source": [
        "df_emprestimos_completo.info()"
      ],
      "metadata": {
        "id": "L8d-2pnKljr_"
      },
      "execution_count": null,
      "outputs": []
    },
    {
      "cell_type": "code",
      "source": [
        "df_emprestimos_completo.shape"
      ],
      "metadata": {
        "id": "I4RbHDnRl15a"
      },
      "execution_count": null,
      "outputs": []
    },
    {
      "cell_type": "code",
      "source": [
        "url_exemplares = 'https://raw.githubusercontent.com/FranciscoFoz/7_Days_of_Code_Alura-Python-Pandas/main/Dia_1-Importando_dados/Datasets/dados_exemplares.parquet'"
      ],
      "metadata": {
        "id": "UBXTV9R4mMvg"
      },
      "execution_count": null,
      "outputs": []
    },
    {
      "cell_type": "code",
      "source": [
        "df_exemplares = pd.read_parquet(url_exemplares)"
      ],
      "metadata": {
        "id": "QcY1GEEeoaYG"
      },
      "execution_count": null,
      "outputs": []
    },
    {
      "cell_type": "code",
      "source": [
        "df_exemplares.head()"
      ],
      "metadata": {
        "id": "O_ODOvRhoi1O"
      },
      "execution_count": null,
      "outputs": []
    },
    {
      "cell_type": "code",
      "source": [
        "df_exemplares.shape"
      ],
      "metadata": {
        "id": "O_jd7xJ-oskT"
      },
      "execution_count": null,
      "outputs": []
    },
    {
      "cell_type": "code",
      "source": [
        "df_completo = pd.merge(df_emprestimos_completo, df_exemplares)"
      ],
      "metadata": {
        "id": "hrD05vF5oxaM"
      },
      "execution_count": null,
      "outputs": []
    },
    {
      "cell_type": "code",
      "source": [
        "df_completo = df_completo.drop_duplicates()"
      ],
      "metadata": {
        "id": "A02qlxkTo_h8"
      },
      "execution_count": null,
      "outputs": []
    },
    {
      "cell_type": "code",
      "source": [
        "df_completo.value_counts()"
      ],
      "metadata": {
        "id": "E1ayvMePrGW7"
      },
      "execution_count": null,
      "outputs": []
    },
    {
      "cell_type": "code",
      "source": [
        "df_completo.head()"
      ],
      "metadata": {
        "id": "T1EZDHDwrmMp"
      },
      "execution_count": null,
      "outputs": []
    },
    {
      "cell_type": "markdown",
      "source": [
        "# 7DaysOfCode - Dia 2\n",
        "Iniciando a limpeza e atribuindo mais contexto aos dados."
      ],
      "metadata": {
        "id": "oEEVI1TGHeYl"
      }
    },
    {
      "cell_type": "code",
      "source": [
        "def classificar_cdu(localizacao):\n",
        "  if 0 <= localizacao <= 99:\n",
        "    return 'Generalidades. Ciência e conhecimento'\n",
        "  elif 100 <= localizacao <= 199:\n",
        "    return 'Filosofia e psicologia'\n",
        "  elif 200 <= localizacao <= 299:\n",
        "      return 'Religião'\n",
        "  elif 300 <= localizacao <= 399:\n",
        "    return 'Ciências sociais'\n",
        "  elif 400 <= localizacao <= 499:\n",
        "    return 'Classe vaga. Provisoriamente não ocupada'\n",
        "  elif 500 <= localizacao <= 599:\n",
        "    return 'Matemática e ciências natuais'\n",
        "  elif 600 <= localizacao <= 699:\n",
        "    return 'Ciências aplicadas'\n",
        "  elif 700 <= localizacao <= 799:\n",
        "    return 'Belas artes'\n",
        "  elif 800 <= localizacao <= 899:\n",
        "    return 'Linguagem. Lingua. Linguistica'\n",
        "  elif 900 <= localizacao <= 999:\n",
        "    return 'Geografia. Biografia. História'\n",
        "  else:\n",
        "    return 'Outros'"
      ],
      "metadata": {
        "id": "ObMzegpoMa7z"
      },
      "execution_count": null,
      "outputs": []
    },
    {
      "cell_type": "code",
      "source": [
        "df_completo['CDU_geral'] = df_completo['localizacao'].apply(classificar_cdu)"
      ],
      "metadata": {
        "id": "kY8-nTRfUP8a"
      },
      "execution_count": null,
      "outputs": []
    },
    {
      "cell_type": "code",
      "source": [
        "df_completo[['localizacao', 'CDU_geral']]"
      ],
      "metadata": {
        "id": "5meP_kKAVRLC"
      },
      "execution_count": null,
      "outputs": []
    },
    {
      "cell_type": "code",
      "source": [
        "df_completo.drop('registro_sistema', axis=1, inplace=True)"
      ],
      "metadata": {
        "id": "yTi2pv6kWWV_"
      },
      "execution_count": null,
      "outputs": []
    },
    {
      "cell_type": "code",
      "source": [
        "df_completo['matricula_ou_siape'] = df_completo['matricula_ou_siape'].astype(str)"
      ],
      "metadata": {
        "id": "2cp42b9kW54K"
      },
      "execution_count": null,
      "outputs": []
    },
    {
      "cell_type": "code",
      "source": [
        "df_completo.info()"
      ],
      "metadata": {
        "id": "nuLKdzddXO6O"
      },
      "execution_count": null,
      "outputs": []
    },
    {
      "cell_type": "code",
      "source": [
        "df_completo.head()"
      ],
      "metadata": {
        "id": "UX4by1ZMXb4A"
      },
      "execution_count": null,
      "outputs": []
    },
    {
      "cell_type": "markdown",
      "source": [
        "# 7DaysOfCode - Dia 3\n",
        "explorando o datetime dos dados"
      ],
      "metadata": {
        "id": "hmoZ6iRyFUog"
      }
    },
    {
      "cell_type": "code",
      "source": [
        "df_completo['data_emprestimo'] = pd.to_datetime(df_completo['data_emprestimo'])"
      ],
      "metadata": {
        "id": "K3oxRLvnFqje"
      },
      "execution_count": null,
      "outputs": []
    },
    {
      "cell_type": "code",
      "source": [
        "print(df_completo['data_emprestimo'].dtype)"
      ],
      "metadata": {
        "id": "-w88BrSkFuQl"
      },
      "execution_count": null,
      "outputs": []
    },
    {
      "cell_type": "code",
      "source": [
        "df_completo.head()"
      ],
      "metadata": {
        "id": "Uw9fqPJIFw-T"
      },
      "execution_count": null,
      "outputs": []
    },
    {
      "cell_type": "code",
      "source": [
        "ano_emprestimo = df_completo['data_emprestimo'].dt.year"
      ],
      "metadata": {
        "id": "BL4wd8MZF0W8"
      },
      "execution_count": null,
      "outputs": []
    },
    {
      "cell_type": "code",
      "source": [
        "emprestimos_por_ano = ano_emprestimo.value_counts().to_frame(name='quantidade')"
      ],
      "metadata": {
        "id": "CtEUhyTWF3Nz"
      },
      "execution_count": null,
      "outputs": []
    },
    {
      "cell_type": "code",
      "source": [
        "emprestimos_por_ano"
      ],
      "metadata": {
        "id": "UhAtxzVqJZz0"
      },
      "execution_count": null,
      "outputs": []
    },
    {
      "cell_type": "code",
      "source": [
        "import matplotlib.pyplot as plt"
      ],
      "metadata": {
        "id": "dkU-KebUJsiI"
      },
      "execution_count": null,
      "outputs": []
    },
    {
      "cell_type": "code",
      "source": [
        "plt.figure(figsize=(12, 6))\n",
        "emprestimos_por_ano = emprestimos_por_ano.sort_index()\n",
        "sns.lineplot(data=emprestimos_por_ano, x=emprestimos_por_ano.index, y='quantidade', marker='o', color='purple')\n",
        "\n",
        "plt.title('Evolução da Quantidade de Exemplares Emprestados do SISBI por Ano', fontsize=16, pad=20)\n",
        "plt.xlabel('Ano', fontsize=12)\n",
        "plt.ylabel('Número de Exemplares Emprestados', fontsize=12)\n",
        "plt.grid(True, linestyle='--', alpha=0.6)\n",
        "\n",
        "plt.gca().spines['top'].set_visible(False)\n",
        "plt.gca().spines['right'].set_visible(False)\n",
        "\n",
        "plt.savefig('emprestimos_por_ano.png', bbox_inches='tight')\n",
        "plt.show()"
      ],
      "metadata": {
        "id": "s5GfXi11J04Y"
      },
      "execution_count": null,
      "outputs": []
    },
    {
      "cell_type": "code",
      "source": [
        "mes_emprestimo = df_completo['data_emprestimo'].dt.month"
      ],
      "metadata": {
        "id": "omwUQnSKQIlX"
      },
      "execution_count": null,
      "outputs": []
    },
    {
      "cell_type": "code",
      "source": [
        "emprestimos_por_mes = mes_emprestimo.value_counts().to_frame(name='quantidade')"
      ],
      "metadata": {
        "id": "dAFZJS55QhYg"
      },
      "execution_count": null,
      "outputs": []
    },
    {
      "cell_type": "code",
      "source": [
        "emprestimos_por_mes"
      ],
      "metadata": {
        "id": "oAS0NaSeRmTG"
      },
      "execution_count": null,
      "outputs": []
    },
    {
      "cell_type": "code",
      "source": [
        "dicionario_meses = {1:'Jan',2:'Fev',3:'Mar',4:'Abr',\n",
        "                    5:'Mai',6:'Jun',7:'Jul',8:'Ago',\n",
        "                    9:'Set',10:'Out',11:'Nov',12:'Dez'}"
      ],
      "metadata": {
        "id": "KhdXRUl9Tz5Z"
      },
      "execution_count": null,
      "outputs": []
    },
    {
      "cell_type": "code",
      "source": [
        "emprestimos_por_mes.index = emprestimos_por_mes.index.map(dicionario_meses)"
      ],
      "metadata": {
        "id": "Jj31LbutWa3X"
      },
      "execution_count": null,
      "outputs": []
    },
    {
      "cell_type": "code",
      "source": [
        "emprestimos_por_mes"
      ],
      "metadata": {
        "id": "1FJpHW1bWhDx"
      },
      "execution_count": null,
      "outputs": []
    },
    {
      "cell_type": "code",
      "source": [
        "import seaborn as sns\n",
        "import matplotlib.pyplot as plt\n",
        "\n",
        "plt.figure(figsize=(12, 6))\n",
        "emprestimos_por_mes = emprestimos_por_mes.reindex(dicionario_meses.values())\n",
        "sns.lineplot(data=emprestimos_por_mes, x=emprestimos_por_mes.index, y='quantidade', marker='o', color='forestgreen')\n",
        "\n",
        "plt.title('Evolução da Quantidade de Exemplares Emprestados por Mês', fontsize=16, pad=20)\n",
        "plt.xlabel('Mês', fontsize=12)\n",
        "plt.ylabel('Número de Empréstimos', fontsize=12)\n",
        "plt.grid(True, linestyle='--', alpha=0.6)\n",
        "\n",
        "sns.despine()\n",
        "\n",
        "plt.savefig('emprestimos_por_mes.png', bbox_inches='tight')\n",
        "plt.show()"
      ],
      "metadata": {
        "id": "fwOzEyDYWjuY"
      },
      "execution_count": null,
      "outputs": []
    },
    {
      "cell_type": "code",
      "source": [
        "horas_emprestimo = df_completo['data_emprestimo'].dt.hour"
      ],
      "metadata": {
        "id": "yIS4imMxXXgp"
      },
      "execution_count": null,
      "outputs": []
    },
    {
      "cell_type": "code",
      "source": [
        "emprestimos_por_hora = horas_emprestimo.value_counts().to_frame(name='quantidade')"
      ],
      "metadata": {
        "id": "4-RUV94JXvgD"
      },
      "execution_count": null,
      "outputs": []
    },
    {
      "cell_type": "code",
      "source": [
        "emprestimos_por_hora"
      ],
      "metadata": {
        "id": "KonarJVxX9jR"
      },
      "execution_count": null,
      "outputs": []
    },
    {
      "cell_type": "code",
      "source": [
        "import seaborn as sns\n",
        "import matplotlib.pyplot as plt\n",
        "\n",
        "emprestimos_por_hora = horas_emprestimo.value_counts().to_frame(name='quantidade')\n",
        "emprestimos_por_hora = emprestimos_por_hora.reset_index()\n",
        "emprestimos_por_hora.columns = ['horas', 'quantidade']\n",
        "\n",
        "fig, ax = plt.subplots(figsize=(12, 6))\n",
        "\n",
        "sns.barplot(data=emprestimos_por_hora, x='horas', y='quantidade', palette='Purples', hue='quantidade', dodge=False, ax=ax)\n",
        "\n",
        "ax.set_title('Quantidade de Exemplares Emprestados por Hora do Dia', fontsize=16, pad=20)\n",
        "\n",
        "ax.text(x=0.03, y=1.03, s='Período de 2010 a 2020', fontsize=12, ha='left', va='top', transform=ax.transAxes)\n",
        "\n",
        "ax.set_xlabel('Hora do Dia', fontsize=12)\n",
        "ax.set_ylabel('Número de Empréstimos', fontsize=12)\n",
        "\n",
        "ax.grid(axis='y', linestyle='--', alpha=0.6)\n",
        "\n",
        "ax.legend([],[], frameon=False)\n",
        "\n",
        "sns.despine(ax=ax)\n",
        "\n",
        "plt.savefig('emprestimos_por_hora.png', bbox_inches='tight')\n",
        "plt.show()"
      ],
      "metadata": {
        "id": "5zoX7L3SYMYE"
      },
      "execution_count": null,
      "outputs": []
    },
    {
      "cell_type": "markdown",
      "source": [
        "# 7DaysOfCode - Dia 4\n",
        "continuando a explorar dados."
      ],
      "metadata": {
        "id": "_3IuWyPTZfpo"
      }
    },
    {
      "cell_type": "code",
      "source": [
        "df_completo.head()"
      ],
      "metadata": {
        "id": "zHUQz1nTW1qc"
      },
      "execution_count": null,
      "outputs": []
    },
    {
      "cell_type": "code",
      "source": [
        "df_completo['data_emprestimo'] = pd.to_datetime(df_completo['data_emprestimo'])"
      ],
      "metadata": {
        "id": "7gzX4zcuZFWA"
      },
      "execution_count": null,
      "outputs": []
    },
    {
      "cell_type": "code",
      "source": [
        "df_completo.tipo_vinculo_usuario.unique()"
      ],
      "metadata": {
        "id": "QNdgIdwiZbEP"
      },
      "execution_count": null,
      "outputs": []
    },
    {
      "cell_type": "code",
      "source": [
        "df_completo.colecao.unique()"
      ],
      "metadata": {
        "id": "mJqzwJj3Z12v"
      },
      "execution_count": null,
      "outputs": []
    },
    {
      "cell_type": "code",
      "source": [
        "df_completo.biblioteca.unique()"
      ],
      "metadata": {
        "id": "0YOK5V6qZ8BF"
      },
      "execution_count": null,
      "outputs": []
    },
    {
      "cell_type": "code",
      "source": [
        "df_completo.CDU_geral.unique()"
      ],
      "metadata": {
        "id": "USt96BqnaHNB"
      },
      "execution_count": null,
      "outputs": []
    },
    {
      "cell_type": "code",
      "source": [
        "def tabela_frequencia(variavel):\n",
        "  dataframe = pd.DataFrame(df_completo[variavel].value_counts())\n",
        "  dataframe.columns = ['quantidade']\n",
        "  dataframe['percentual'] = round((dataframe.quantidade/dataframe.quantidade.sum())*100,1)\n",
        "\n",
        "  return dataframe"
      ],
      "metadata": {
        "id": "J5nAh1o9bpOk"
      },
      "execution_count": null,
      "outputs": []
    },
    {
      "cell_type": "code",
      "source": [
        "tabela_frequencia('tipo_vinculo_usuario')"
      ],
      "metadata": {
        "id": "iJ6IdcrQbq19"
      },
      "execution_count": null,
      "outputs": []
    },
    {
      "cell_type": "code",
      "source": [
        "tabela_frequencia('colecao')"
      ],
      "metadata": {
        "id": "QepHu5KNbzbX"
      },
      "execution_count": null,
      "outputs": []
    },
    {
      "cell_type": "code",
      "source": [
        "tabela_frequencia('biblioteca')"
      ],
      "metadata": {
        "id": "LmCb4VXqb5no"
      },
      "execution_count": null,
      "outputs": []
    },
    {
      "cell_type": "code",
      "source": [
        "tabela_frequencia('CDU_geral')"
      ],
      "metadata": {
        "id": "u4VJDP00b_d5"
      },
      "execution_count": null,
      "outputs": []
    },
    {
      "cell_type": "markdown",
      "source": [
        "# 7DaysOfCode - Dia 5\n",
        "analisando empréstimos com boxplot."
      ],
      "metadata": {
        "id": "HlqQPWfBaxnB"
      }
    },
    {
      "cell_type": "code",
      "source": [
        "alunos_graduacao = df_completo.query('tipo_vinculo_usuario == \"ALUNO DE GRADUAÇÃO\"')\n",
        "alunos_graduacao.colecao.value_counts()"
      ],
      "metadata": {
        "id": "ZyngSRVHc-I6"
      },
      "execution_count": null,
      "outputs": []
    },
    {
      "cell_type": "code",
      "source": [
        "alunos_graduacao_acervo_circulante = alunos_graduacao.query('colecao == \"Acervo Circulante\"').copy()\n",
        "alunos_graduacao_acervo_circulante['ano'] = alunos_graduacao_acervo_circulante['data_emprestimo'].dt.year\n",
        "alunos_graduacao_acervo_circulante['mes'] = alunos_graduacao_acervo_circulante['data_emprestimo'].dt.month\n",
        "alunos_graduacao_acervo_circulante = alunos_graduacao_acervo_circulante.loc[:, ['ano', 'mes']]\n",
        "alunos_graduacao_acervo_circulante = alunos_graduacao_acervo_circulante.value_counts().to_frame('quantidade').reset_index()\n",
        "alunos_graduacao_acervo_circulante"
      ],
      "metadata": {
        "id": "VqJNjb0LdYXq"
      },
      "execution_count": null,
      "outputs": []
    },
    {
      "cell_type": "code",
      "source": [
        "import matplotlib.pyplot as plt\n",
        "import seaborn as sns\n",
        "\n",
        "def gera_box_plot(dataframe, x, y, titulo, subtitulo):\n",
        "    fig, ax = plt.subplots(figsize=(12, 8))\n",
        "\n",
        "    sns.boxplot(data=dataframe, x=x, y=y, palette='Blues', ax=ax)\n",
        "\n",
        "    plt.suptitle(titulo, fontsize=20, weight='bold', ha='left', x=0.1, y=0.98)\n",
        "    plt.title(subtitulo, fontsize=16, color='gray', loc='left', pad=20)\n",
        "\n",
        "    ax.set_xlabel('Ano', fontsize=12)\n",
        "    ax.set_ylabel('Número de Empréstimos Mensais', fontsize=12)\n",
        "\n",
        "    sns.despine(ax=ax)\n",
        "\n",
        "    plt.savefig('boxplot_graduacao.png', bbox_inches='tight')\n",
        "\n",
        "    plt.show()"
      ],
      "metadata": {
        "id": "G5XcC5fkiBAi"
      },
      "execution_count": null,
      "outputs": []
    },
    {
      "cell_type": "code",
      "source": [
        "gera_box_plot(alunos_graduacao_acervo_circulante,'ano','quantidade','Distribuição dos empréstimos mensais', 'Realizados pelos alunos de graduação no acervo circulante')"
      ],
      "metadata": {
        "id": "UeJisxqQimfg"
      },
      "execution_count": null,
      "outputs": []
    },
    {
      "cell_type": "code",
      "source": [
        "alunos_pos_graduacao = df_completo.query('tipo_vinculo_usuario == \"ALUNO DE PÓS-GRADUAÇÃO\"')\n",
        "alunos_pos_graduacao.colecao.value_counts()"
      ],
      "metadata": {
        "id": "ntXh6U8toT_r"
      },
      "execution_count": null,
      "outputs": []
    },
    {
      "cell_type": "code",
      "source": [
        "alunos_pos_graduacao_acervo_circulante = alunos_pos_graduacao.query('colecao == \"Acervo Circulante\"')\n",
        "alunos_pos_graduacao_acervo_circulante = pd.DataFrame(alunos_pos_graduacao_acervo_circulante)\n",
        "alunos_pos_graduacao_acervo_circulante['data_emprestimo'] = pd.to_datetime(alunos_pos_graduacao_acervo_circulante['data_emprestimo'])\n",
        "alunos_pos_graduacao_acervo_circulante['ano'] = alunos_pos_graduacao_acervo_circulante['data_emprestimo'].dt.year\n",
        "alunos_pos_graduacao_acervo_circulante['mes'] = alunos_pos_graduacao_acervo_circulante['data_emprestimo'].dt.month\n",
        "alunos_pos_graduacao_acervo_circulante = alunos_pos_graduacao_acervo_circulante.loc[:,['ano','mes']]\n",
        "alunos_pos_graduacao_acervo_circulante = alunos_pos_graduacao_acervo_circulante.value_counts().to_frame('quantidade').reset_index()\n",
        "alunos_pos_graduacao_acervo_circulante"
      ],
      "metadata": {
        "id": "zWw4CfDcoY02"
      },
      "execution_count": null,
      "outputs": []
    },
    {
      "cell_type": "code",
      "source": [
        "gera_box_plot(alunos_pos_graduacao_acervo_circulante,'ano','quantidade','Distribuição dos empréstimos mensais', 'Realizados pelos alunos de pós graduação no acervo circulante')"
      ],
      "metadata": {
        "id": "4pzbXg7Wofof"
      },
      "execution_count": null,
      "outputs": []
    },
    {
      "cell_type": "markdown",
      "source": [
        "#7DaysOfCode - Dia 6\n",
        "novos dados, novas análises."
      ],
      "metadata": {
        "id": "LvvUQXYcwZQQ"
      }
    },
    {
      "cell_type": "code",
      "source": [
        "cadastros_usuarios_antes_2010 = pd.read_excel('https://github.com/FranciscoFoz/7_Days_of_Code_Alura-Python-Pandas/raw/main/Dia_6-Novos_dados_novas_analises/Datasets/matricula_alunos.xlsx', sheet_name='Até 2010', skiprows=1)\n",
        "cadastros_usuarios_depois_2010 = pd.read_excel('https://github.com/FranciscoFoz/7_Days_of_Code_Alura-Python-Pandas/raw/main/Dia_6-Novos_dados_novas_analises/Datasets/matricula_alunos.xlsx', sheet_name='Após 2010', skiprows=1)"
      ],
      "metadata": {
        "id": "TO5tgFYNwinQ"
      },
      "execution_count": null,
      "outputs": []
    },
    {
      "cell_type": "code",
      "source": [
        "cadastros_usuarios_antes_2010"
      ],
      "metadata": {
        "id": "KaL9IK81yuAd"
      },
      "execution_count": null,
      "outputs": []
    },
    {
      "cell_type": "code",
      "source": [
        "cadastros_usuarios_antes_2010.columns = ['matricula_ou_siape', 'tipo_vinculo_usuario', 'curso']"
      ],
      "metadata": {
        "id": "LvDcPFgOyz0t"
      },
      "execution_count": null,
      "outputs": []
    },
    {
      "cell_type": "code",
      "source": [
        "cadastros_usuarios_depois_2010"
      ],
      "metadata": {
        "id": "r0w9L43hzCPd"
      },
      "execution_count": null,
      "outputs": []
    },
    {
      "cell_type": "code",
      "source": [
        "cadastros_usuarios_depois_2010.columns = ['matricula_ou_siape', 'tipo_vinculo_usuario', 'curso']"
      ],
      "metadata": {
        "id": "nPz9vuXQzQV7"
      },
      "execution_count": null,
      "outputs": []
    },
    {
      "cell_type": "code",
      "source": [
        "cadastros_usuarios_excel = pd.concat([cadastros_usuarios_antes_2010, cadastros_usuarios_depois_2010],ignore_index=True)\n",
        "cadastros_usuarios_excel.matricula_ou_siape = cadastros_usuarios_excel.matricula_ou_siape.astype('string')\n",
        "cadastros_usuarios_excel"
      ],
      "metadata": {
        "id": "0mh93BVfzbM_"
      },
      "execution_count": null,
      "outputs": []
    },
    {
      "cell_type": "code",
      "source": [
        "cadastros_usuarios_json = pd.read_json('https://github.com/FranciscoFoz/7_Days_of_Code_Alura-Python-Pandas/raw/refs/heads/main/Dia_6-Novos_dados_novas_analises/Datasets/cadastro_alunos.json')\n",
        "cadastros_usuarios_json"
      ],
      "metadata": {
        "id": "0rjl8wed0EeX"
      },
      "execution_count": null,
      "outputs": []
    },
    {
      "cell_type": "code",
      "source": [
        "cadastros_usuarios_graduacao_json = pd.read_json(cadastros_usuarios_json.registros[0])"
      ],
      "metadata": {
        "id": "bTBnUIPo07c7"
      },
      "execution_count": null,
      "outputs": []
    },
    {
      "cell_type": "code",
      "source": [
        "cadastros_usuarios_graduacao_json"
      ],
      "metadata": {
        "id": "dSrYNL821PDp"
      },
      "execution_count": null,
      "outputs": []
    },
    {
      "cell_type": "code",
      "source": [
        "cadastros_usuarios_graduacao_json.info()"
      ],
      "metadata": {
        "id": "e0l1ojLA1aP9"
      },
      "execution_count": null,
      "outputs": []
    },
    {
      "cell_type": "code",
      "source": [
        "cadastros_usuarios_graduacao_json.matricula_ou_siape = cadastros_usuarios_graduacao_json.matricula_ou_siape.astype('float')\n",
        "cadastros_usuarios_graduacao_json.matricula_ou_siape = cadastros_usuarios_graduacao_json.matricula_ou_siape.astype('string')"
      ],
      "metadata": {
        "id": "173D-52a1gmV"
      },
      "execution_count": null,
      "outputs": []
    },
    {
      "cell_type": "code",
      "source": [
        "cadastros_usuarios_graduacao_json.info()"
      ],
      "metadata": {
        "id": "hQfynIY11_dP"
      },
      "execution_count": null,
      "outputs": []
    },
    {
      "cell_type": "code",
      "source": [
        "cadastro_usuarios_cursos = pd.concat([cadastros_usuarios_excel,cadastros_usuarios_graduacao_json],ignore_index=True)\n",
        "cadastro_usuarios_cursos"
      ],
      "metadata": {
        "id": "JyPX1w_d2yLQ"
      },
      "execution_count": null,
      "outputs": []
    },
    {
      "cell_type": "code",
      "source": [
        "matricula_data_de_emprestimo = df_completo.query(\"tipo_vinculo_usuario == 'ALUNO DE GRADUAÇÃO'\")\n",
        "matricula_data_de_emprestimo = matricula_data_de_emprestimo.loc[:,['matricula_ou_siape','data_emprestimo']]\n",
        "matricula_data_de_emprestimo = matricula_data_de_emprestimo.query('data_emprestimo > 2015')\n",
        "matricula_data_de_emprestimo = matricula_data_de_emprestimo.reset_index(drop=True)\n",
        "matricula_data_de_emprestimo"
      ],
      "metadata": {
        "id": "bAwbZvjj29z3"
      },
      "execution_count": null,
      "outputs": []
    },
    {
      "cell_type": "code",
      "source": [
        "matricula_data_de_emprestimo.isna().sum()"
      ],
      "metadata": {
        "id": "jjhjUa8G5fgB"
      },
      "execution_count": null,
      "outputs": []
    },
    {
      "cell_type": "code",
      "source": [
        "cadastro_usuarios_cursos_selecionados = cadastro_usuarios_cursos.query(\"curso == ['BIBLIOTECONOMIA','CIÊNCIAS SOCIAIS','COMUNICAÇÃO SOCIAL','DIREITO','FILOSOFIA','PEDAGOGIA']\")\n",
        "cadastro_usuarios_cursos_selecionados"
      ],
      "metadata": {
        "id": "k1a9DTzf6DOI"
      },
      "execution_count": null,
      "outputs": []
    },
    {
      "cell_type": "code",
      "source": [
        "cadastro_usuarios_cursos_selecionados = matricula_data_de_emprestimo.merge(cadastro_usuarios_cursos_selecionados)\n",
        "cadastro_usuarios_cursos_selecionados"
      ],
      "metadata": {
        "id": "IPqbnMrn6Jmg"
      },
      "execution_count": null,
      "outputs": []
    },
    {
      "cell_type": "code",
      "source": [
        "cadastro_usuarios_cursos_selecionados.data_emprestimo = cadastro_usuarios_cursos_selecionados.data_emprestimo.dt.year"
      ],
      "metadata": {
        "id": "iEUKMuwM73HO"
      },
      "execution_count": null,
      "outputs": []
    },
    {
      "cell_type": "code",
      "source": [
        "emprestimos_cursos_selecionados = cadastro_usuarios_cursos_selecionados.iloc[:,[1,3]].value_counts().reset_index()\n",
        "emprestimos_cursos_selecionados.columns = ['ANO','CURSO','QUANTIDADE_EMPRESTIMOS']\n",
        "emprestimos_cursos_selecionados"
      ],
      "metadata": {
        "id": "bItaGxSE73_g"
      },
      "execution_count": null,
      "outputs": []
    },
    {
      "cell_type": "code",
      "source": [
        "emprestimos_tipo_usuario_curso_pivot = emprestimos_cursos_selecionados.pivot_table(\n",
        "    index = 'CURSO',\n",
        "    columns = 'ANO',\n",
        "    values = 'QUANTIDADE_EMPRESTIMOS',\n",
        "    fill_value = '-',\n",
        "    aggfunc = sum,\n",
        "    margins = True,\n",
        "    margins_name = 'TOTAL',\n",
        ")\n",
        "emprestimos_tipo_usuario_curso_pivot"
      ],
      "metadata": {
        "id": "OUDiPgib8_ZS"
      },
      "execution_count": null,
      "outputs": []
    },
    {
      "cell_type": "code",
      "source": [
        "df_completo.head()"
      ],
      "metadata": {
        "id": "UW-uMrthWRL1"
      },
      "execution_count": null,
      "outputs": []
    },
    {
      "cell_type": "markdown",
      "source": [
        "#7DaysOfCode - Dia 7\n",
        "apresentando os resultados em HTML e criando uma tabela com as diferenças percentuais de empréstimos dos alunos de pós-graduação entre 2017-2018, 2018-2019, 2019-2022."
      ],
      "metadata": {
        "id": "72rNagnKf-RP"
      }
    },
    {
      "cell_type": "code",
      "source": [
        "cadastro_usuarios_antes_2010 = pd.read_excel('https://github.com/FranciscoFoz/7_Days_of_Code_Alura-Python-Pandas/raw/main/Dia_6-Novos_dados_novas_analises/Datasets/matricula_alunos.xlsx',\n",
        "                                        sheet_name='Até 2010',skiprows=1)\n",
        "cadastro_usuarios_depois_2010 = pd.read_excel('https://github.com/FranciscoFoz/7_Days_of_Code_Alura-Python-Pandas/raw/main/Dia_6-Novos_dados_novas_analises/Datasets/matricula_alunos.xlsx',\n",
        "                                        sheet_name='Após 2010',skiprows=1)"
      ],
      "metadata": {
        "id": "MYUpFcHSvpcA"
      },
      "execution_count": null,
      "outputs": []
    },
    {
      "cell_type": "code",
      "source": [
        "cadastro_usuarios_antes_2010"
      ],
      "metadata": {
        "id": "qISfVFTFwG0P"
      },
      "execution_count": null,
      "outputs": []
    },
    {
      "cell_type": "code",
      "source": [
        "cadastro_usuarios_antes_2010.columns = ['matricula_ou_siape','tipo_vinculo_usuario','curso']"
      ],
      "metadata": {
        "id": "TGfU3ptEwJIs"
      },
      "execution_count": null,
      "outputs": []
    },
    {
      "cell_type": "code",
      "source": [
        "cadastro_usuarios_antes_2010"
      ],
      "metadata": {
        "id": "OgZOV8pJwLzt"
      },
      "execution_count": null,
      "outputs": []
    },
    {
      "cell_type": "code",
      "source": [
        "cadastro_usuarios_depois_2010"
      ],
      "metadata": {
        "id": "Gh2Q5hcXwSf_"
      },
      "execution_count": null,
      "outputs": []
    },
    {
      "cell_type": "code",
      "source": [
        "cadastro_usuarios_depois_2010.columns= ['matricula_ou_siape','tipo_vinculo_usuario','curso']"
      ],
      "metadata": {
        "id": "v9QdskvMwT6R"
      },
      "execution_count": null,
      "outputs": []
    },
    {
      "cell_type": "code",
      "source": [
        "cadastro_usuarios_depois_2010"
      ],
      "metadata": {
        "id": "Ea41jy67wWgp"
      },
      "execution_count": null,
      "outputs": []
    },
    {
      "cell_type": "code",
      "source": [
        "cadastro_usuarios_excel = pd.concat([cadastro_usuarios_antes_2010,cadastro_usuarios_depois_2010],ignore_index=True)\n",
        "cadastro_usuarios_excel.matricula_ou_siape = cadastro_usuarios_excel.matricula_ou_siape.astype('string')\n",
        "cadastro_usuarios_excel"
      ],
      "metadata": {
        "id": "MaAWfrS3waue"
      },
      "execution_count": null,
      "outputs": []
    },
    {
      "cell_type": "code",
      "source": [
        "cadastro_usuarios_json = pd.read_json('https://github.com/FranciscoFoz/7_Days_of_Code_Alura-Python-Pandas/raw/main/Dia_6-Novos_dados_novas_analises/Datasets/cadastro_alunos.json')\n",
        "cadastro_usuarios_json"
      ],
      "metadata": {
        "id": "oH5FelYbwjyv"
      },
      "execution_count": null,
      "outputs": []
    },
    {
      "cell_type": "code",
      "source": [
        "cadastro_usuarios_posgraduacao_json = pd.read_json(cadastro_usuarios_json.registros[1])"
      ],
      "metadata": {
        "id": "xNcpLaUkwp4I"
      },
      "execution_count": null,
      "outputs": []
    },
    {
      "cell_type": "code",
      "source": [
        "cadastro_usuarios_posgraduacao_json"
      ],
      "metadata": {
        "id": "uwvcQFjhwsgv"
      },
      "execution_count": null,
      "outputs": []
    },
    {
      "cell_type": "code",
      "source": [
        "cadastro_usuarios_posgraduacao_json.info()"
      ],
      "metadata": {
        "id": "pfmV8T2Nwwqd"
      },
      "execution_count": null,
      "outputs": []
    },
    {
      "cell_type": "code",
      "source": [
        "cadastro_usuarios_posgraduacao_json.matricula_ou_siape = cadastro_usuarios_posgraduacao_json.matricula_ou_siape.astype('float')\n",
        "cadastro_usuarios_posgraduacao_json.matricula_ou_siape = cadastro_usuarios_posgraduacao_json.matricula_ou_siape.astype('string')"
      ],
      "metadata": {
        "id": "A2T-fCYSwy6F"
      },
      "execution_count": null,
      "outputs": []
    },
    {
      "cell_type": "code",
      "source": [
        "cadastro_usuarios_posgraduacao_json.info()"
      ],
      "metadata": {
        "id": "Pr9421Pew3Cr"
      },
      "execution_count": null,
      "outputs": []
    },
    {
      "cell_type": "code",
      "source": [
        "cadastro_usuarios_cursos = pd.concat([cadastro_usuarios_excel,cadastro_usuarios_posgraduacao_json],ignore_index=True)\n",
        "cadastro_usuarios_cursos"
      ],
      "metadata": {
        "id": "XrVSsrqCw6rL"
      },
      "execution_count": null,
      "outputs": []
    },
    {
      "cell_type": "code",
      "source": [
        "cadastro_usuarios_cursos_pos_graduacao = cadastro_usuarios_posgraduacao_json.query(\"tipo_vinculo_usuario == 'ALUNO DE PÓS-GRADUAÇÃO'\")\n",
        "cadastro_usuarios_cursos_pos_graduacao"
      ],
      "metadata": {
        "id": "LvhWFxhlxAYb"
      },
      "execution_count": null,
      "outputs": []
    },
    {
      "cell_type": "code",
      "source": [
        "matricula_data_de_emprestimo_pos_graduacao = df_completo.loc[:,['matricula_ou_siape','data_emprestimo']]\n",
        "matricula_data_de_emprestimo_pos_graduacao = matricula_data_de_emprestimo_pos_graduacao.query('data_emprestimo > 2017')\n",
        "matricula_data_de_emprestimo_pos_graduacao = matricula_data_de_emprestimo_pos_graduacao.reset_index(drop=True)\n",
        "matricula_data_de_emprestimo_pos_graduacao"
      ],
      "metadata": {
        "id": "blEh5a72xF3B"
      },
      "execution_count": null,
      "outputs": []
    },
    {
      "cell_type": "code",
      "source": [
        "emprestimos_pos_graduacao_desde_2017 = matricula_data_de_emprestimo_pos_graduacao.merge(cadastro_usuarios_cursos_pos_graduacao)\n",
        "emprestimos_pos_graduacao_desde_2017"
      ],
      "metadata": {
        "id": "mIDWv46mxayf"
      },
      "execution_count": null,
      "outputs": []
    },
    {
      "cell_type": "code",
      "source": [
        "emprestimos_pos_graduacao_desde_2017.data_emprestimo = emprestimos_pos_graduacao_desde_2017.data_emprestimo.dt.year"
      ],
      "metadata": {
        "id": "Y5X4BhvHzk0Z"
      },
      "execution_count": null,
      "outputs": []
    },
    {
      "cell_type": "code",
      "source": [
        "emprestimos_pos_graduacao_desde_2017 = emprestimos_pos_graduacao_desde_2017.iloc[:,[1,3]].value_counts().reset_index()\n",
        "emprestimos_pos_graduacao_desde_2017.columns = ['ANO','CURSO','QUANTIDADE_EMPRESTIMOS']\n",
        "emprestimos_pos_graduacao_desde_2017.head()"
      ],
      "metadata": {
        "id": "knXeeQhZzn_5"
      },
      "execution_count": null,
      "outputs": []
    },
    {
      "cell_type": "code",
      "source": [
        "emprestimos_pos_graduacao_e_curso_pivot = emprestimos_pos_graduacao_desde_2017.pivot_table(\n",
        "        index = 'CURSO',\n",
        "        columns = 'ANO',\n",
        "        values = 'QUANTIDADE_EMPRESTIMOS'\n",
        ")\n",
        "emprestimos_pos_graduacao_e_curso_pivot"
      ],
      "metadata": {
        "id": "KjO4GsIWz1Tt"
      },
      "execution_count": null,
      "outputs": []
    },
    {
      "cell_type": "code",
      "source": [
        "previsao_2022 = pd.read_table('https://github.com/FranciscoFoz/7_Days_of_Code_Alura-Python-Pandas/raw/main/Dia_7-Apresentando_resultados_em_HTML/Dataset/previsao')"
      ],
      "metadata": {
        "id": "eJF7dz2cz7bH"
      },
      "execution_count": null,
      "outputs": []
    },
    {
      "cell_type": "code",
      "source": [
        "previsao_2022 = previsao_2022['curso previsao_2022'].str.split(' ',expand=True)\n",
        "previsao_2022"
      ],
      "metadata": {
        "id": "uMFqIyr1z_il"
      },
      "execution_count": null,
      "outputs": []
    },
    {
      "cell_type": "code",
      "source": [
        "emprestimos_pos_graduacao_e_curso_pivot"
      ],
      "metadata": {
        "id": "Bup1Hlfd0EFA"
      },
      "execution_count": null,
      "outputs": []
    },
    {
      "cell_type": "code",
      "source": [
        "previsao_2022.index = emprestimos_pos_graduacao_e_curso_pivot.index\n",
        "emprestimos_pos_graduacao_e_curso_pivot['2022'] = previsao_2022.iloc[:,1]\n",
        "emprestimos_pos_graduacao_e_curso_pivot"
      ],
      "metadata": {
        "id": "7jf2Q3GC0HUA"
      },
      "execution_count": null,
      "outputs": []
    },
    {
      "cell_type": "code",
      "source": [
        "emprestimos_pos_graduacao_e_curso_pivot['2022'] = emprestimos_pos_graduacao_e_curso_pivot['2022'].astype('int')"
      ],
      "metadata": {
        "id": "wjwOQez90TLA"
      },
      "execution_count": null,
      "outputs": []
    },
    {
      "cell_type": "code",
      "source": [
        "emprestimos_pos_graduacao_e_curso_pivot"
      ],
      "metadata": {
        "id": "UdWM_nuR0WH4"
      },
      "execution_count": null,
      "outputs": []
    },
    {
      "cell_type": "code",
      "source": [
        "def diferenca_percentual_ano_anterior(x,y):\n",
        "  return round(((x / y * 100) - 100),2)"
      ],
      "metadata": {
        "id": "09dJnfT40bll"
      },
      "execution_count": null,
      "outputs": []
    },
    {
      "cell_type": "code",
      "source": [
        "percentual_2018 = diferenca_percentual_ano_anterior(emprestimos_pos_graduacao_e_curso_pivot.iloc[:,1],emprestimos_pos_graduacao_e_curso_pivot.iloc[:,0])\n",
        "percentual_2019 = diferenca_percentual_ano_anterior(emprestimos_pos_graduacao_e_curso_pivot.iloc[:,2],emprestimos_pos_graduacao_e_curso_pivot.iloc[:,1])\n",
        "percentual_2022 = diferenca_percentual_ano_anterior(emprestimos_pos_graduacao_e_curso_pivot.iloc[:,3],emprestimos_pos_graduacao_e_curso_pivot.iloc[:,2])"
      ],
      "metadata": {
        "id": "lprigaoJ0iah"
      },
      "execution_count": null,
      "outputs": []
    },
    {
      "cell_type": "code",
      "source": [
        "percentual = pd.DataFrame({'2018':percentual_2018,\n",
        "                           '2019':percentual_2019,\n",
        "                           '2022':percentual_2022})\n",
        "percentual"
      ],
      "metadata": {
        "id": "qrAZKLtN0zd-"
      },
      "execution_count": null,
      "outputs": []
    },
    {
      "cell_type": "code",
      "source": [
        "percentual.reset_index(inplace=True)\n",
        "percentual.columns = percentual.columns.str.capitalize()\n",
        "percentual.Curso = percentual.Curso.str.capitalize()"
      ],
      "metadata": {
        "id": "OTo9Xm3u02b9"
      },
      "execution_count": null,
      "outputs": []
    },
    {
      "cell_type": "code",
      "source": [
        "percentual"
      ],
      "metadata": {
        "id": "9BvssTEr09o9"
      },
      "execution_count": null,
      "outputs": []
    },
    {
      "cell_type": "markdown",
      "source": [
        "# Criando tabela em HTML\n",
        "estruturando a formatação da tabela em CSS"
      ],
      "metadata": {
        "id": "IAOJGe3Y1JEa"
      }
    },
    {
      "cell_type": "code",
      "source": [
        "from IPython.display import HTML\n",
        "\n",
        "th_props = [\n",
        "  ('font-size', '1.4rem'),\n",
        "  ('text-align', 'center'),\n",
        "  ('font-weight', 'bold'),\n",
        "  ('color', 'whitesmoke'),\n",
        "  ('background-color', '#001692'),\n",
        "  ('border-radius', '0.25rem'),\n",
        "  ('box-shadow','0 0 1rem gray')\n",
        "  ]\n",
        "\n",
        "td_props = [\n",
        "  ('font-size', '1rem'),\n",
        "  ('padding','0.5rem'),\n",
        "  ('text-align', 'left'),\n",
        "  ('font-weight', 'bold'),\n",
        "  ('border-bottom','0.1rem solid lightgray')\n",
        "  ]\n",
        "\n",
        "styles = [\n",
        "  dict(selector=\"th\", props=th_props),\n",
        "  dict(selector=\"td\", props=td_props)\n",
        "  ]\n"
      ],
      "metadata": {
        "id": "s2HKyv5Q1YZv"
      },
      "execution_count": null,
      "outputs": []
    },
    {
      "cell_type": "code",
      "source": [
        "html_tabela = percentual.style.text_gradient(cmap='RdYlGn',low=1, axis=1,vmax=0.1,vmin=0)\\\n",
        "                             .format('{:.2f} %',subset=['2018','2019','2022'])\\\n",
        "                             .set_table_styles(styles)\\\n",
        "                             .to_html(doctype_html =True,\n",
        "                                    table_attributes='ALIGN=LEFT WIDTH=50% CELLSPACING = 5')\n",
        "\n",
        "HTML(html_tabela)"
      ],
      "metadata": {
        "id": "ZI8lKexw1bCX"
      },
      "execution_count": null,
      "outputs": []
    },
    {
      "cell_type": "markdown",
      "source": [],
      "metadata": {
        "id": "JoEQSVmrWsna"
      }
    }
  ]
}